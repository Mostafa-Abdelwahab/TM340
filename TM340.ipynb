{
  "nbformat": 4,
  "nbformat_minor": 0,
  "metadata": {
    "colab": {
      "provenance": [],
      "authorship_tag": "ABX9TyPUDtZBhtxQb1uqF2kOh7Co",
      "include_colab_link": true
    },
    "kernelspec": {
      "name": "python3",
      "display_name": "Python 3"
    },
    "language_info": {
      "name": "python"
    }
  },
  "cells": [
    {
      "cell_type": "markdown",
      "metadata": {
        "id": "view-in-github",
        "colab_type": "text"
      },
      "source": [
        "<a href=\"https://colab.research.google.com/github/Mostafa-Abdelwahab/TM340/blob/main/TM340.ipynb\" target=\"_parent\"><img src=\"https://colab.research.google.com/assets/colab-badge.svg\" alt=\"Open In Colab\"/></a>"
      ]
    },
    {
      "cell_type": "markdown",
      "source": [
        "**NLP Regular expressions**"
      ],
      "metadata": {
        "id": "d10-isYWGnc5"
      }
    },
    {
      "cell_type": "markdown",
      "source": [
        "**Important expressions**\n",
        "\n",
        "*   \\s means white space\n",
        "*   \\n means new line\n",
        "*\\d means digit\n",
        "*\\w means alphanumeric\n",
        "\n",
        "\n",
        "\n",
        "\n",
        "\n",
        "\n"
      ],
      "metadata": {
        "id": "mEKsGVGdIICs"
      }
    },
    {
      "cell_type": "code",
      "execution_count": null,
      "metadata": {
        "id": "HLyuFdibGMdQ"
      },
      "outputs": [],
      "source": [
        "import re"
      ]
    },
    {
      "cell_type": "markdown",
      "source": [
        "**Search**"
      ],
      "metadata": {
        "id": "_FVmzS9E4bq4"
      }
    },
    {
      "cell_type": "code",
      "source": [
        "txt = 'The rain in spain gaining 35'"
      ],
      "metadata": {
        "id": "dvy2z5D3GSUD"
      },
      "execution_count": null,
      "outputs": []
    },
    {
      "cell_type": "code",
      "source": [
        "#braces define different options\n",
        "re.findall(r'[rg]ain',txt)"
      ],
      "metadata": {
        "colab": {
          "base_uri": "https://localhost:8080/"
        },
        "id": "RcrEGgUW4hbC",
        "outputId": "b7733b24-aa4f-45de-b432-08f91d473998"
      },
      "execution_count": null,
      "outputs": [
        {
          "output_type": "execute_result",
          "data": {
            "text/plain": [
              "['rain', 'gain']"
            ]
          },
          "metadata": {},
          "execution_count": 3
        }
      ]
    },
    {
      "cell_type": "code",
      "source": [
        "#search for capital case letters\n",
        "re.findall(r'[A-Z]',txt)"
      ],
      "metadata": {
        "colab": {
          "base_uri": "https://localhost:8080/"
        },
        "id": "KeUNhRid6Que",
        "outputId": "5e4c2613-b35b-4d20-8815-9ea4709ba158"
      },
      "execution_count": null,
      "outputs": [
        {
          "output_type": "execute_result",
          "data": {
            "text/plain": [
              "['T']"
            ]
          },
          "metadata": {},
          "execution_count": 4
        }
      ]
    },
    {
      "cell_type": "code",
      "source": [
        "#search for a single digit\n",
        "re.findall(r'[0-9]',txt)"
      ],
      "metadata": {
        "colab": {
          "base_uri": "https://localhost:8080/"
        },
        "id": "wohTBMKl8xK9",
        "outputId": "2b4e08ea-5a88-43cb-b2cd-d05d4fc73dbb"
      },
      "execution_count": null,
      "outputs": [
        {
          "output_type": "execute_result",
          "data": {
            "text/plain": [
              "['3', '5']"
            ]
          },
          "metadata": {},
          "execution_count": 5
        }
      ]
    },
    {
      "cell_type": "code",
      "source": [
        "#the carat ^ is used to negate when it is used inside the braces\n",
        "re.findall(r'[^a-z]',txt)"
      ],
      "metadata": {
        "colab": {
          "base_uri": "https://localhost:8080/"
        },
        "id": "dSU3wc8k9V3O",
        "outputId": "c326382d-e1d6-445b-a271-5de3943f8218"
      },
      "execution_count": null,
      "outputs": [
        {
          "output_type": "execute_result",
          "data": {
            "text/plain": [
              "['T', ' ', ' ', ' ', ' ', ' ', '3', '5']"
            ]
          },
          "metadata": {},
          "execution_count": 6
        }
      ]
    },
    {
      "cell_type": "code",
      "source": [
        "txt2='the faster they ran the faster we ran'\n",
        "if re.match(r'the (.*)er they (.*) the \\1er we \\2',txt2):\n",
        "  print ('horray')\n",
        "else:\n",
        "  print(txt2)"
      ],
      "metadata": {
        "colab": {
          "base_uri": "https://localhost:8080/"
        },
        "id": "OOdtnWIRHXOr",
        "outputId": "c73c558c-4250-4cb2-ab1d-7d81d961fe73"
      },
      "execution_count": null,
      "outputs": [
        {
          "output_type": "stream",
          "name": "stdout",
          "text": [
            "horray\n"
          ]
        }
      ]
    },
    {
      "cell_type": "markdown",
      "source": [
        "**Subistitution**"
      ],
      "metadata": {
        "id": "TxXKxIwvG4aK"
      }
    },
    {
      "cell_type": "code",
      "source": [
        "x=re.sub('\\s',\"9\",txt)"
      ],
      "metadata": {
        "id": "7nYOsHotGW9v"
      },
      "execution_count": null,
      "outputs": []
    },
    {
      "cell_type": "code",
      "source": [
        "print(x)"
      ],
      "metadata": {
        "colab": {
          "base_uri": "https://localhost:8080/"
        },
        "id": "kesRLGv4GeWq",
        "outputId": "1392da41-cf53-4efe-c536-ce5c59eeba3b"
      },
      "execution_count": null,
      "outputs": [
        {
          "output_type": "stream",
          "name": "stdout",
          "text": [
            "The9rain9in9spain9gaining935\n"
          ]
        }
      ]
    },
    {
      "cell_type": "code",
      "source": [
        "y=re.sub(r'([0-9]+)',r'<\\1>',txt)\n",
        "y"
      ],
      "metadata": {
        "colab": {
          "base_uri": "https://localhost:8080/",
          "height": 35
        },
        "id": "y8IedA4pGJ-v",
        "outputId": "2ffe37b9-266e-49b2-920a-12506a7896d5"
      },
      "execution_count": null,
      "outputs": [
        {
          "output_type": "execute_result",
          "data": {
            "text/plain": [
              "'The rain in spain gain <35>'"
            ],
            "application/vnd.google.colaboratory.intrinsic+json": {
              "type": "string"
            }
          },
          "metadata": {},
          "execution_count": 16
        }
      ]
    },
    {
      "cell_type": "markdown",
      "source": [
        "**Case normaizoation**"
      ],
      "metadata": {
        "id": "rOBvqOF4CfI-"
      }
    },
    {
      "cell_type": "code",
      "source": [
        "txt3 = \"The quick BROWN Fox Jumps OVER the lazy dog.\"\n",
        "txt3 = txt3.lower()\n",
        "print(txt3)"
      ],
      "metadata": {
        "colab": {
          "base_uri": "https://localhost:8080/"
        },
        "id": "E08bbzXYDSqD",
        "outputId": "a5991df5-f641-4a84-d564-d6a9ae8db79a"
      },
      "execution_count": null,
      "outputs": [
        {
          "output_type": "stream",
          "name": "stdout",
          "text": [
            "the quick brown fox jumps over the lazy dog.\n"
          ]
        }
      ]
    },
    {
      "cell_type": "markdown",
      "source": [
        "**Stemming**"
      ],
      "metadata": {
        "id": "G5H7W0OfDo6o"
      }
    },
    {
      "cell_type": "code",
      "source": [
        "#Stemming is reducing words to their root form by removing suffixes and prefixes\n",
        "from nltk.stem import PorterStemmer\n",
        "stemmer = PorterStemmer()\n",
        "txt4 = \"this\"\n",
        "stemmed_words = stemmer.stem(txt4)\n",
        "print(stemmed_words)"
      ],
      "metadata": {
        "colab": {
          "base_uri": "https://localhost:8080/"
        },
        "id": "VbHfQjReDvmN",
        "outputId": "e62ec4f7-ff6e-4962-e958-55a4aaf26947"
      },
      "execution_count": null,
      "outputs": [
        {
          "output_type": "stream",
          "name": "stdout",
          "text": [
            "thi\n"
          ]
        }
      ]
    },
    {
      "cell_type": "markdown",
      "source": [
        "**lemmatization**"
      ],
      "metadata": {
        "id": "GKp8nITzFAP6"
      }
    },
    {
      "cell_type": "code",
      "source": [
        "import nltk\n",
        "nltk.download('wordnet')"
      ],
      "metadata": {
        "colab": {
          "base_uri": "https://localhost:8080/"
        },
        "id": "iq9_7NIRF3kU",
        "outputId": "f69b9481-8e8e-492d-db2a-2b3f72a4816d"
      },
      "execution_count": null,
      "outputs": [
        {
          "output_type": "stream",
          "name": "stderr",
          "text": [
            "[nltk_data] Downloading package wordnet to /root/nltk_data...\n"
          ]
        },
        {
          "output_type": "execute_result",
          "data": {
            "text/plain": [
              "True"
            ]
          },
          "metadata": {},
          "execution_count": 10
        }
      ]
    },
    {
      "cell_type": "code",
      "source": [
        "from nltk.stem import WordNetLemmatizer\n",
        "lemmatizer = WordNetLemmatizer()\n",
        "text = \"runs\"\n",
        "lemmatized_words = lemmatizer.lemmatize(text)\n",
        "print(lemmatized_words)"
      ],
      "metadata": {
        "colab": {
          "base_uri": "https://localhost:8080/"
        },
        "id": "RSFGHUcKFRJ1",
        "outputId": "3d0243ec-8ebf-4fd3-a7d1-c39157009b67"
      },
      "execution_count": null,
      "outputs": [
        {
          "output_type": "stream",
          "name": "stdout",
          "text": [
            "run\n"
          ]
        }
      ]
    }
  ]
}